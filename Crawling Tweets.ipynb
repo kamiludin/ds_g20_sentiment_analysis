{
 "cells": [
  {
   "cell_type": "code",
   "execution_count": 1,
   "metadata": {},
   "outputs": [],
   "source": [
    "# IMPORT MODULES\n",
    "import snscrape.modules.twitter as sntwitter\n",
    "import pandas as pd"
   ]
  },
  {
   "cell_type": "code",
   "execution_count": 9,
   "metadata": {},
   "outputs": [],
   "source": [
    "# MENYIAPKAN SEGALA SESUATU YANG DIPERLUKAN : KATA KUNCI, BAHASA, JUMLAH TWEET, DLL.\n",
    "query = \"(g20indonesia) lang:en until:2022-11-01 since:2021-11-01\"\n",
    "tweets = []\n",
    "limit = 5000"
   ]
  },
  {
   "cell_type": "code",
   "execution_count": 10,
   "metadata": {},
   "outputs": [
    {
     "name": "stdout",
     "output_type": "stream",
     "text": [
      "Starting to scrape tweets\n",
      "finished scraping tweets\n"
     ]
    }
   ],
   "source": [
    "# PROSES CRAWLING/NARIK DATA DARI TWITTER\n",
    "try:\n",
    "    print(\"Starting to scrape tweets\")\n",
    "    for tweet in sntwitter.TwitterSearchScraper(query=query).get_items():\n",
    "        if len(tweets) == limit:\n",
    "            break\n",
    "        else:\n",
    "            tweets.append([tweet.date, tweet.user.username, tweet.content])\n",
    "    df = pd.DataFrame(tweets, columns=['Datetime', 'Username', 'Tweet'])\n",
    "except Exception as e:\n",
    "    print(e)\n",
    "\n",
    "print(\"finished scraping tweets\")"
   ]
  },
  {
   "cell_type": "code",
   "execution_count": 12,
   "metadata": {},
   "outputs": [],
   "source": [
    "# SIMPAN KE CSV FILE\n",
    "df = df.to_csv('g20indonesia_tweets.csv', index=False)"
   ]
  },
  {
   "cell_type": "code",
   "execution_count": 6,
   "metadata": {},
   "outputs": [
    {
     "data": {
      "text/html": [
       "<div>\n",
       "<style scoped>\n",
       "    .dataframe tbody tr th:only-of-type {\n",
       "        vertical-align: middle;\n",
       "    }\n",
       "\n",
       "    .dataframe tbody tr th {\n",
       "        vertical-align: top;\n",
       "    }\n",
       "\n",
       "    .dataframe thead th {\n",
       "        text-align: right;\n",
       "    }\n",
       "</style>\n",
       "<table border=\"1\" class=\"dataframe\">\n",
       "  <thead>\n",
       "    <tr style=\"text-align: right;\">\n",
       "      <th></th>\n",
       "      <th>Datetime</th>\n",
       "      <th>Username</th>\n",
       "      <th>Tweet</th>\n",
       "    </tr>\n",
       "  </thead>\n",
       "  <tbody>\n",
       "    <tr>\n",
       "      <th>0</th>\n",
       "      <td>2022-10-31 22:44:10+00:00</td>\n",
       "      <td>m3trainer</td>\n",
       "      <td>👋 @g20org @Cop27P We have had enough of witnes...</td>\n",
       "    </tr>\n",
       "    <tr>\n",
       "      <th>1</th>\n",
       "      <td>2022-10-31 22:31:41+00:00</td>\n",
       "      <td>anthony82149035</td>\n",
       "      <td>@tni blood thirty savages in uniform racist an...</td>\n",
       "    </tr>\n",
       "    <tr>\n",
       "      <th>2</th>\n",
       "      <td>2022-10-31 22:16:51+00:00</td>\n",
       "      <td>corsicanmafioso</td>\n",
       "      <td>🔊 @G7 @EUCouncil @g20org: The devastating floo...</td>\n",
       "    </tr>\n",
       "    <tr>\n",
       "      <th>3</th>\n",
       "      <td>2022-10-31 22:06:55+00:00</td>\n",
       "      <td>Ekklesia_co_uk</td>\n",
       "      <td>G20 Summit looks to world religions for soluti...</td>\n",
       "    </tr>\n",
       "    <tr>\n",
       "      <th>4</th>\n",
       "      <td>2022-10-31 21:48:37+00:00</td>\n",
       "      <td>prof_ahmetkuru</td>\n",
       "      <td>Indonesia is hosting G20 &amp;amp; its religious f...</td>\n",
       "    </tr>\n",
       "    <tr>\n",
       "      <th>...</th>\n",
       "      <td>...</td>\n",
       "      <td>...</td>\n",
       "      <td>...</td>\n",
       "    </tr>\n",
       "    <tr>\n",
       "      <th>4995</th>\n",
       "      <td>2022-09-29 14:48:59+00:00</td>\n",
       "      <td>herlan_sydney</td>\n",
       "      <td>.@Menlu_RI Civic space is crucial for sustaina...</td>\n",
       "    </tr>\n",
       "    <tr>\n",
       "      <th>4996</th>\n",
       "      <td>2022-09-29 14:40:28+00:00</td>\n",
       "      <td>herlan_sydney</td>\n",
       "      <td>🔊 @G7 @EUCouncil @g20org: The devastating floo...</td>\n",
       "    </tr>\n",
       "    <tr>\n",
       "      <th>4997</th>\n",
       "      <td>2022-09-29 14:38:29+00:00</td>\n",
       "      <td>TheVineetMittal</td>\n",
       "      <td>I congratulate Shri @amitabhk87 and @NITIAayog...</td>\n",
       "    </tr>\n",
       "    <tr>\n",
       "      <th>4998</th>\n",
       "      <td>2022-09-29 14:36:03+00:00</td>\n",
       "      <td>Kim83897697</td>\n",
       "      <td>👋 @g20org @EUCouncil @Cop27P @vonderleyen @tru...</td>\n",
       "    </tr>\n",
       "    <tr>\n",
       "      <th>4999</th>\n",
       "      <td>2022-09-29 14:29:13+00:00</td>\n",
       "      <td>Kumar27147450</td>\n",
       "      <td>@IndianEmbJkt @g20org @MEAIndia @cgibali @Agri...</td>\n",
       "    </tr>\n",
       "  </tbody>\n",
       "</table>\n",
       "<p>5000 rows × 3 columns</p>\n",
       "</div>"
      ],
      "text/plain": [
       "                       Datetime         Username  \\\n",
       "0     2022-10-31 22:44:10+00:00        m3trainer   \n",
       "1     2022-10-31 22:31:41+00:00  anthony82149035   \n",
       "2     2022-10-31 22:16:51+00:00  corsicanmafioso   \n",
       "3     2022-10-31 22:06:55+00:00   Ekklesia_co_uk   \n",
       "4     2022-10-31 21:48:37+00:00   prof_ahmetkuru   \n",
       "...                         ...              ...   \n",
       "4995  2022-09-29 14:48:59+00:00    herlan_sydney   \n",
       "4996  2022-09-29 14:40:28+00:00    herlan_sydney   \n",
       "4997  2022-09-29 14:38:29+00:00  TheVineetMittal   \n",
       "4998  2022-09-29 14:36:03+00:00      Kim83897697   \n",
       "4999  2022-09-29 14:29:13+00:00    Kumar27147450   \n",
       "\n",
       "                                                  Tweet  \n",
       "0     👋 @g20org @Cop27P We have had enough of witnes...  \n",
       "1     @tni blood thirty savages in uniform racist an...  \n",
       "2     🔊 @G7 @EUCouncil @g20org: The devastating floo...  \n",
       "3     G20 Summit looks to world religions for soluti...  \n",
       "4     Indonesia is hosting G20 &amp; its religious f...  \n",
       "...                                                 ...  \n",
       "4995  .@Menlu_RI Civic space is crucial for sustaina...  \n",
       "4996  🔊 @G7 @EUCouncil @g20org: The devastating floo...  \n",
       "4997  I congratulate Shri @amitabhk87 and @NITIAayog...  \n",
       "4998  👋 @g20org @EUCouncil @Cop27P @vonderleyen @tru...  \n",
       "4999  @IndianEmbJkt @g20org @MEAIndia @cgibali @Agri...  \n",
       "\n",
       "[5000 rows x 3 columns]"
      ]
     },
     "execution_count": 6,
     "metadata": {},
     "output_type": "execute_result"
    }
   ],
   "source": [
    "# MENAMPILKAN DATASET\n",
    "read_df = pd.read_csv('g20indonesia_tweets.csv')\n",
    "read_df"
   ]
  },
  {
   "cell_type": "code",
   "execution_count": null,
   "metadata": {},
   "outputs": [],
   "source": []
  }
 ],
 "metadata": {
  "kernelspec": {
   "display_name": "Python 3.10.6 ('kamiludin')",
   "language": "python",
   "name": "python3"
  },
  "language_info": {
   "codemirror_mode": {
    "name": "ipython",
    "version": 3
   },
   "file_extension": ".py",
   "mimetype": "text/x-python",
   "name": "python",
   "nbconvert_exporter": "python",
   "pygments_lexer": "ipython3",
   "version": "3.10.6"
  },
  "orig_nbformat": 4,
  "vscode": {
   "interpreter": {
    "hash": "9bc52dd7d7ae7b1e96f6cd73eebbd2bf18e24141e9bf49555996b61997a38f6a"
   }
  }
 },
 "nbformat": 4,
 "nbformat_minor": 2
}
